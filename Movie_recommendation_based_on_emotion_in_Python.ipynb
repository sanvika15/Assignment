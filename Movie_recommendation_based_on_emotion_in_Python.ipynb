{
  "nbformat": 4,
  "nbformat_minor": 0,
  "metadata": {
    "colab": {
      "provenance": [],
      "authorship_tag": "ABX9TyNN2Y6QUCgrSNMbScloalXy",
      "include_colab_link": true
    },
    "kernelspec": {
      "name": "python3",
      "display_name": "Python 3"
    },
    "language_info": {
      "name": "python"
    }
  },
  "cells": [
    {
      "cell_type": "markdown",
      "metadata": {
        "id": "view-in-github",
        "colab_type": "text"
      },
      "source": [
        "<a href=\"https://colab.research.google.com/github/sanvika15/Assignment/blob/main/Movie_recommendation_based_on_emotion_in_Python.ipynb\" target=\"_parent\"><img src=\"https://colab.research.google.com/assets/colab-badge.svg\" alt=\"Open In Colab\"/></a>"
      ]
    },
    {
      "cell_type": "code",
      "execution_count": 4,
      "metadata": {
        "id": "A6rrBh0li7k7"
      },
      "outputs": [],
      "source": [
        "# Movie recommendation based on emotion in Python"
      ]
    },
    {
      "cell_type": "code",
      "source": [
        "!pip install beautifulsoup4\n",
        "!pip install lxml"
      ],
      "metadata": {
        "colab": {
          "base_uri": "https://localhost:8080/"
        },
        "id": "cHd71xEijcY7",
        "outputId": "833d8422-2c0f-499d-8aa3-62f3ccdef2b9"
      },
      "execution_count": 1,
      "outputs": [
        {
          "output_type": "stream",
          "name": "stdout",
          "text": [
            "Requirement already satisfied: beautifulsoup4 in /usr/local/lib/python3.11/dist-packages (4.13.3)\n",
            "Requirement already satisfied: soupsieve>1.2 in /usr/local/lib/python3.11/dist-packages (from beautifulsoup4) (2.6)\n",
            "Requirement already satisfied: typing-extensions>=4.0.0 in /usr/local/lib/python3.11/dist-packages (from beautifulsoup4) (4.12.2)\n",
            "Requirement already satisfied: lxml in /usr/local/lib/python3.11/dist-packages (5.3.1)\n"
          ]
        }
      ]
    },
    {
      "cell_type": "code",
      "source": [
        "import requests\n",
        "from bs4 import BeautifulSoup\n",
        "import re\n",
        "\n",
        "# Dictionary to map emotions to IMDb URLs\n",
        "URLS = {\n",
        "    \"Drama\": 'https://www.imdb.com/search/title/?title_type=feature&genres=drama',\n",
        "    \"Action\": 'https://www.imdb.com/search/title/?title_type=feature&genres=action',\n",
        "    \"Comedy\": 'https://www.imdb.com/search/title/?title_type=feature&genres=comedy',\n",
        "    \"Horror\": 'https://www.imdb.com/search/title/?title_type=feature&genres=horror',\n",
        "    \"Crime\": 'https://www.imdb.com/search/title/?title_type=feature&genres=crime',\n",
        "}\n",
        "\n",
        "def main(emotion):\n",
        "    url = URLS.get(emotion)\n",
        "    print(\"ok\", url)\n",
        "    if not url:\n",
        "        print(\"Invalid emotion.\")\n",
        "        return []\n",
        "\n",
        "    headers = {\n",
        "    'User-Agent':\n",
        "    'Mozilla/5.0 (Windows NT 10.0; Win64; x64) AppleWebKit/537.36 (KHTML, like Gecko) Chrome/91.0.4472.124 Safari/537.36'\n",
        "}\n",
        "\n",
        "    try:\n",
        "        response = requests.get(url, headers=headers)\n",
        "        response.raise_for_status()  # Check for HTTP errors\n",
        "    except requests.RequestException as e:\n",
        "        print(f\"Error fetching data: {e}\")\n",
        "        return []\n",
        "\n",
        "    soup = BeautifulSoup(response.text, \"lxml\")\n",
        "\n",
        "    # Extract movie titles\n",
        "    titles = [a.get_text() for a in soup.find_all('a', href=re.compile(r'/title/tt\\d+/'))]\n",
        "    return titles\n",
        "\n",
        "# Driver Function\n",
        "if __name__ == '__main__':\n",
        "    emotion = input(\"Enter the emotion: \").strip()\n",
        "    movie_titles = main(emotion)\n",
        "\n",
        "    if not movie_titles:\n",
        "        print(\"No titles found.\")\n",
        "    else:\n",
        "        max_titles = 14 if emotion in [\"Drama\", \"Action\", \"Comedy\", \"Horror\", \"Crime\"] else 12\n",
        "        for title in movie_titles[:max_titles]:\n",
        "            print(title)\n"
      ],
      "metadata": {
        "colab": {
          "base_uri": "https://localhost:8080/"
        },
        "id": "vFilFEGAjeeW",
        "outputId": "3cd37144-cedc-4252-8d05-de57d79d37ad"
      },
      "execution_count": 3,
      "outputs": [
        {
          "output_type": "stream",
          "name": "stdout",
          "text": [
            "Enter the emotion: Comedy\n",
            "ok https://www.imdb.com/search/title/?title_type=feature&genres=comedy\n",
            "\n",
            "1. Anora\n",
            "\n",
            "2. Bridget Jones: Mad About the Boy\n",
            "\n",
            "3. EuroTrip\n",
            "\n",
            "4. Mickey 17\n",
            "\n",
            "5. Shrek 5\n",
            "\n",
            "6. A Real Pain\n",
            "\n",
            "7. Emilia Pérez\n"
          ]
        }
      ]
    },
    {
      "cell_type": "code",
      "source": [],
      "metadata": {
        "id": "-nORxBaUjgjC"
      },
      "execution_count": null,
      "outputs": []
    }
  ]
}